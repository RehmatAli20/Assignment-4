{
  "nbformat": 4,
  "nbformat_minor": 0,
  "metadata": {
    "colab": {
      "provenance": [],
      "authorship_tag": "ABX9TyNP7O7rZGWOs+xpfH9vpwA/",
      "include_colab_link": true
    },
    "kernelspec": {
      "name": "python3",
      "display_name": "Python 3"
    },
    "language_info": {
      "name": "python"
    }
  },
  "cells": [
    {
      "cell_type": "markdown",
      "metadata": {
        "id": "view-in-github",
        "colab_type": "text"
      },
      "source": [
        "<a href=\"https://colab.research.google.com/github/RehmatAli20/Assignment-4/blob/main/project_7_Password_Generator.ipynb\" target=\"_parent\"><img src=\"https://colab.research.google.com/assets/colab-badge.svg\" alt=\"Open In Colab\"/></a>"
      ]
    },
    {
      "cell_type": "code",
      "source": [
        "import string\n",
        "import random\n",
        "\n",
        "\n",
        "def generate_password(min_length, numbers=True, special_characters=True):\n",
        "    if min_length < 8:  # Check if the minimum length is at least 8\n",
        "        print(\"Error: Password length must be at least 8 characters.\")\n",
        "        return None  # Exit the function if the length is too short\n",
        "\n",
        "    # Define character sets\n",
        "    letters = string.ascii_letters  # All uppercase and lowercase letters\n",
        "    digits = string.digits  # Numbers 0-9\n",
        "    special = string.punctuation  # Special characters (!, @, #, $, etc.)\n",
        "\n",
        "    characters = letters  # Start with letters as the base characters\n",
        "    if numbers:\n",
        "        characters += digits  # Add numbers if the user wants them\n",
        "    if special_characters:\n",
        "        characters += special  # Add special characters if the user wants them\n",
        "\n",
        "    pwd = \"\"  # Initialize an empty password string\n",
        "    meets_criteria = False  # Boolean flag to ensure password meets all requirements\n",
        "    has_number = False  # Boolean flag to check if a number is included\n",
        "    has_special = False  # Boolean flag to check if a special character is included\n",
        "\n",
        "    # Generate password until it meets the criteria\n",
        "    while not meets_criteria or len(pwd) < min_length:\n",
        "        new_char = random.choice(characters)  # Pick a random character from the allowed set\n",
        "        pwd += new_char  # Add the selected character to the password\n",
        "\n",
        "        # Check if the character is a number\n",
        "        if new_char in digits:\n",
        "            has_number = True\n",
        "        # Check if the character is a special character\n",
        "        elif new_char in special:\n",
        "            has_special = True\n",
        "\n",
        "        # Update meets_criteria flag\n",
        "        meets_criteria = True\n",
        "        if numbers:  # If numbers are required, ensure at least one is included\n",
        "            meets_criteria = has_number\n",
        "        if special_characters:  # If special characters are required, ensure at least one is included\n",
        "            meets_criteria = meets_criteria and has_special\n",
        "\n",
        "    return pwd  # Return the generated password\n",
        "\n",
        "# Get user input for the password length\n",
        "while True:\n",
        "    min_length = int(input(\"Enter the minimum length (at least 8): \"))  # Ask user for password length\n",
        "    if min_length >= 8:  # Check if the length is valid\n",
        "        break  # Exit the loop if the input is valid\n",
        "    print(\"Password length must be at least 8. Try again.\")  # Show error message and repeat\n",
        "\n",
        "# Get user preference for numbers and special characters\n",
        "has_number = input(\"Do you want to have numbers (y/n)? \").lower() == \"y\"  # Convert user input to boolean\n",
        "has_special = input(\"Do you want to have special characters (y/n)? \").lower() == \"y\"  # Convert user input to boolean\n",
        "\n",
        "# Generate password based on user input\n",
        "pwd = generate_password(min_length, has_number, has_special)\n",
        "\n",
        "# Display the generated password\n",
        "if pwd:\n",
        "    print(\"The generated password is:\", pwd)\n"
      ],
      "metadata": {
        "colab": {
          "base_uri": "https://localhost:8080/"
        },
        "id": "FkJNwEYOYJDk",
        "outputId": "50004785-8dda-4490-f435-6b29651b13ea"
      },
      "execution_count": null,
      "outputs": [
        {
          "output_type": "stream",
          "name": "stdout",
          "text": [
            "Enter the minimum length (at least 8): 8\n",
            "Do you want to have numbers (y/n)? n\n",
            "Do you want to have special characters (y/n)? n\n",
            "The generated password is: JbKBrfYp\n"
          ]
        }
      ]
    }
  ]
}