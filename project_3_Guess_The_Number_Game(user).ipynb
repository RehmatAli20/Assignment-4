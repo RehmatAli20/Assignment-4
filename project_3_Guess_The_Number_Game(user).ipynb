{
  "nbformat": 4,
  "nbformat_minor": 0,
  "metadata": {
    "colab": {
      "provenance": [],
      "authorship_tag": "ABX9TyO9gItCuqc48N8yGKp4Nd5w",
      "include_colab_link": true
    },
    "kernelspec": {
      "name": "python3",
      "display_name": "Python 3"
    },
    "language_info": {
      "name": "python"
    }
  },
  "cells": [
    {
      "cell_type": "markdown",
      "metadata": {
        "id": "view-in-github",
        "colab_type": "text"
      },
      "source": [
        "<a href=\"https://colab.research.google.com/github/RehmatAli20/Assignment-4/blob/main/project_3_Guess_The_Number_Game(user).ipynb\" target=\"_parent\"><img src=\"https://colab.research.google.com/assets/colab-badge.svg\" alt=\"Open In Colab\"/></a>"
      ]
    },
    {
      "cell_type": "code",
      "execution_count": null,
      "metadata": {
        "colab": {
          "base_uri": "https://localhost:8080/"
        },
        "id": "58LB3DuMSVAP",
        "outputId": "005b7654-d878-4236-cf19-3222a39e505d"
      },
      "outputs": [
        {
          "output_type": "stream",
          "name": "stdout",
          "text": [
            "Welcome to the 'Guess Your Number' game!\n",
            "You will choose a number, and I (the computer) will try to guess it.\n",
            "Choose a number between 1 and 20. Keep it in your mind!\n",
            "Once you have chosen your number, press Enter to continue...\n",
            "My guess is: 5\n",
            "Is my guess 'too high', 'too low', or 'correct'? too low\n",
            "My guess is: 14\n",
            "Is my guess 'too high', 'too low', or 'correct'? Too high\n",
            "My guess is: 12\n",
            "Is my guess 'too high', 'too low', or 'correct'? too high\n",
            "My guess is: 6\n",
            "Is my guess 'too high', 'too low', or 'correct'? too low\n",
            "My guess is: 8\n",
            "Is my guess 'too high', 'too low', or 'correct'? too low\n",
            "My guess is: 11\n",
            "Is my guess 'too high', 'too low', or 'correct'? too high\n",
            "My guess is: 10\n",
            "Is my guess 'too high', 'too low', or 'correct'? you guess it well\n",
            "Oops! Please type 'too high', 'too low', or 'correct'.\n",
            "My guess is: 10\n",
            "Is my guess 'too high', 'too low', or 'correct'? correct\n",
            "Yay! I guessed your number in 8 attempts! 🎉\n",
            "Thanks for playing!\n"
          ]
        }
      ],
      "source": [
        "import random\n",
        "\n",
        "print(\"Welcome to the 'Guess Your Number' game!\")\n",
        "print(\"You will choose a number, and I (the computer) will try to guess it.\")\n",
        "\n",
        "# Step 1: Ask the user to think of a number within a range\n",
        "low, high = 1, 20\n",
        "print(f\"Choose a number between {low} and {high}. Keep it in your mind!\")\n",
        "input(\"Once you have chosen your number, press Enter to continue...\")\n",
        "\n",
        "#Computer starts guessing\n",
        "attempts = 0\n",
        "while True:\n",
        "    guess = random.randint(low, high)  # Computer makes a guess\n",
        "    attempts += 1\n",
        "    print(f\"My guess is: {guess}\")\n",
        "\n",
        "    #User gives feedback\n",
        "    feedback = input(\"Is my guess 'too high', 'too low', or 'correct'? \").lower()\n",
        "\n",
        "    if feedback == \"correct\":\n",
        "        print(f\"Yay! I guessed your number in {attempts} attempts! 🎉\")\n",
        "        break\n",
        "    elif feedback == \"too high\":\n",
        "        high = guess - 1  # Reduce range\n",
        "    elif feedback == \"too low\":\n",
        "        low = guess + 1  # Increase range\n",
        "    else:\n",
        "        print(\"Oops! Please type 'too high', 'too low', or 'correct'.\")\n",
        "\n",
        "print(\"Thanks for playing!\")\n"
      ]
    }
  ]
}