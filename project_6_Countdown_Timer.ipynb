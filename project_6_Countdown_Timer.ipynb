{
  "nbformat": 4,
  "nbformat_minor": 0,
  "metadata": {
    "colab": {
      "provenance": [],
      "authorship_tag": "ABX9TyNHIezb7zdfPaOO0EU2Vqm1",
      "include_colab_link": true
    },
    "kernelspec": {
      "name": "python3",
      "display_name": "Python 3"
    },
    "language_info": {
      "name": "python"
    }
  },
  "cells": [
    {
      "cell_type": "markdown",
      "metadata": {
        "id": "view-in-github",
        "colab_type": "text"
      },
      "source": [
        "<a href=\"https://colab.research.google.com/github/RehmatAli20/Assignment-4/blob/main/project_6_Countdown_Timer.ipynb\" target=\"_parent\"><img src=\"https://colab.research.google.com/assets/colab-badge.svg\" alt=\"Open In Colab\"/></a>"
      ]
    },
    {
      "cell_type": "code",
      "execution_count": null,
      "metadata": {
        "colab": {
          "base_uri": "https://localhost:8080/"
        },
        "id": "R2YVdjEkJiIf",
        "outputId": "d276b574-5635-47f0-ec93-caee61e2cc52"
      },
      "outputs": [
        {
          "output_type": "stream",
          "name": "stdout",
          "text": [
            "Enter the time in seconds: 5\n",
            "00:00:05\n",
            "00:00:04\n",
            "00:00:03\n",
            "00:00:02\n",
            "00:00:01\n",
            "Time's up!\n"
          ]
        }
      ],
      "source": [
        "import time\n",
        "\n",
        "my_time=int(input(\"Enter the time in seconds: \" ))# here we are taking input from user in seconds\n",
        "for x in range(my_time ,0,-1): # this loop will start from decsending order until 0\n",
        "  seconds=x%60\n",
        "  minutes=int(x/60)%60 #here we are type casting\n",
        "  hours=int(x/3600) # == == ==\n",
        "  print(\"{:02d}:{:02d}:{:02d}\".format(hours,minutes,seconds)) #here we are using string formate to adjust time in hours minutes and seconds\n",
        "  time.sleep(1) # here this function will stop loop at the end on every runs for just one second as we have passed  parameter 1: or will freez the loop for 1 sec\n",
        "print(\"Time's up!\")# after end of loop this line of code will execute\n",
        "\n",
        "\n"
      ]
    }
  ]
}