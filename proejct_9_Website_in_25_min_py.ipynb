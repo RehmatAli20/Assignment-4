{
  "nbformat": 4,
  "nbformat_minor": 0,
  "metadata": {
    "colab": {
      "provenance": [],
      "authorship_tag": "ABX9TyPfb+3Y9M2M0kAYOS1fMcGd",
      "include_colab_link": true
    },
    "kernelspec": {
      "name": "python3",
      "display_name": "Python 3"
    },
    "language_info": {
      "name": "python"
    }
  },
  "cells": [
    {
      "cell_type": "markdown",
      "metadata": {
        "id": "view-in-github",
        "colab_type": "text"
      },
      "source": [
        "<a href=\"https://colab.research.google.com/github/RehmatAli20/Assignment-4/blob/main/proejct_9_Website_in_25_min_py.ipynb\" target=\"_parent\"><img src=\"https://colab.research.google.com/assets/colab-badge.svg\" alt=\"Open In Colab\"/></a>"
      ]
    },
    {
      "cell_type": "code",
      "source": [
        "from pyngrok import ngrok\n",
        "\n",
        "ngrok.set_auth_token(\"2vfQUXgz5SnN7jcAXwBdVzeAIHa_HGQNGvdwP6Pb45W8yw5h\")\n"
      ],
      "metadata": {
        "id": "Z-jad0TbUUy9"
      },
      "execution_count": 25,
      "outputs": []
    },
    {
      "cell_type": "code",
      "source": [
        "!pip install streamlit pyngrok --quiet\n"
      ],
      "metadata": {
        "id": "MZUq4vEANhcv"
      },
      "execution_count": 26,
      "outputs": []
    },
    {
      "cell_type": "code",
      "execution_count": 28,
      "metadata": {
        "id": "rRDw3ILZRcJz",
        "colab": {
          "base_uri": "https://localhost:8080/"
        },
        "outputId": "2c8a8bc2-5507-46be-956c-3a62e9e25526"
      },
      "outputs": [
        {
          "output_type": "stream",
          "name": "stdout",
          "text": [
            "Overwriting proejct_9_Website_in_25_min.py\n"
          ]
        }
      ],
      "source": [
        "%%writefile  proejct_9_Website_in_25_min.py\n",
        "import streamlit as st\n",
        "import pandas as pd\n",
        "import random\n",
        "\n",
        "st.title(\"Student Data Generator\")\n",
        "names=[\"Rehmat\",\"Ebad\",\"Rehan\",\"Wajahat\",\"Ali\",\"Hassan\",\"Ahmde\",\"Bilal\",\"Usman\",\"Raza\",\"Jibran\",\"Khalid\",\"Sami\",\"Sara\",\"Faisal\",\"Akbar\",\"Rabia\",\"Nimra\",\"Zehan\"]\n",
        "students=[]\n",
        "for i in range(1,len(names)):\n",
        "  student={\n",
        "      \"Roll No\":i,\n",
        "      \"Name\":random.choice(names),\n",
        "      \"Age\":random.randint(18,25),\n",
        "      \"Grade\":random.choice([\"A\",\"B\",\"C\",\"D\",\"F\"]),\n",
        "      \"Marks\":random.randint(40,100),\n",
        "      \"Attendance\":random.randint(70,100),\n",
        "      \"GPA\":round(random.uniform(2.0,4.0),2)\n",
        "  }\n",
        "  students.append(student)\n",
        "df=pd.DataFrame(students)\n",
        "st.subheader(\"Generated Student Data\")\n",
        "st.dataframe(df)\n",
        "csv_file=df.to_csv(index=False).encode('utf-8')\n",
        "st.download_button(label=\"Download CSV\",data=csv_file,file_name=\"student_data.csv\",mime=\"text/csv\")\n",
        "st.success(\"CSV file downloaded successfully!\")"
      ]
    },
    {
      "cell_type": "code",
      "source": [
        "from pyngrok import ngrok\n",
        "import threading\n",
        "import os\n",
        "\n",
        "# Kill any previous tunnels\n",
        "ngrok.kill()\n",
        "\n",
        "# Function to run streamlit\n",
        "def run():\n",
        "    os.system(\"streamlit run proejct_9_Website_in_25_min.py\")\n",
        "\n",
        "# Start streamlit in a separate thread\n",
        "thread = threading.Thread(target=run)\n",
        "thread.start()\n",
        "\n",
        "# Connect ngrok to the streamlit port\n",
        "# public_url = ngrok.connect(\"http://localhost:8501\")\n",
        "public_url = ngrok.connect(\"http://localhost:8501\")\n",
        "\n",
        "\n",
        "print(f\"Streamlit app is live at: {public_url}\")\n"
      ],
      "metadata": {
        "colab": {
          "base_uri": "https://localhost:8080/"
        },
        "id": "N-FkSuiiSe7_",
        "outputId": "8bc60200-c7f7-417c-e26a-cc04d34922ec"
      },
      "execution_count": 24,
      "outputs": [
        {
          "output_type": "stream",
          "name": "stdout",
          "text": [
            "Streamlit app is live at: NgrokTunnel: \"https://aadd-35-229-220-112.ngrok-free.app\" -> \"http://localhost:8501\"\n"
          ]
        }
      ]
    }
  ]
}