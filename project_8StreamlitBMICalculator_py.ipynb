{
  "nbformat": 4,
  "nbformat_minor": 0,
  "metadata": {
    "colab": {
      "provenance": [],
      "authorship_tag": "ABX9TyOWWJ9b5sTMj95w2sy7GjA3",
      "include_colab_link": true
    },
    "kernelspec": {
      "name": "python3",
      "display_name": "Python 3"
    },
    "language_info": {
      "name": "python"
    }
  },
  "cells": [
    {
      "cell_type": "markdown",
      "metadata": {
        "id": "view-in-github",
        "colab_type": "text"
      },
      "source": [
        "<a href=\"https://colab.research.google.com/github/RehmatAli20/Assignment-4/blob/main/project_8StreamlitBMICalculator_py.ipynb\" target=\"_parent\"><img src=\"https://colab.research.google.com/assets/colab-badge.svg\" alt=\"Open In Colab\"/></a>"
      ]
    },
    {
      "cell_type": "markdown",
      "source": [
        "# New Section"
      ],
      "metadata": {
        "id": "9IxpuzjbZkSV"
      }
    },
    {
      "cell_type": "code",
      "source": [
        "!pip install streamlit pyngrok --quiet\n"
      ],
      "metadata": {
        "id": "tzSimIoNgqgw"
      },
      "execution_count": 3,
      "outputs": []
    },
    {
      "cell_type": "code",
      "source": [
        "from pyngrok import ngrok\n",
        "\n",
        "ngrok.set_auth_token(\"2vfQUXgz5SnN7jcAXwBdVzeAIHa_HGQNGvdwP6Pb45W8yw5h\")\n"
      ],
      "metadata": {
        "colab": {
          "base_uri": "https://localhost:8080/"
        },
        "id": "zexDpZDHbwQI",
        "outputId": "7b2066c0-d37e-41b8-bb4e-0c0fc55f512f"
      },
      "execution_count": 4,
      "outputs": [
        {
          "output_type": "stream",
          "name": "stdout",
          "text": []
        }
      ]
    },
    {
      "cell_type": "code",
      "execution_count": 7,
      "metadata": {
        "colab": {
          "base_uri": "https://localhost:8080/"
        },
        "id": "WduLm9yiamK5",
        "outputId": "fcc46d44-4a55-4862-881f-a815d5fe14b9"
      },
      "outputs": [
        {
          "output_type": "stream",
          "name": "stdout",
          "text": [
            "Overwriting project-8StreamlitBMICalculator.py\n"
          ]
        }
      ],
      "source": [
        "%%writefile project-8StreamlitBMICalculator.py\n",
        "import streamlit as st\n",
        "\n",
        "st.set_page_config(page_title=\"BMI Calculator\", layout=\"centered\")  # Fixed parameter name\n",
        "st.title(\"BMI Calculator\")\n",
        "st.markdown(\"Calculate your body mass index by entering your **weight and height**.\")\n",
        "\n",
        "col1, col2 = st.columns(2)\n",
        "\n",
        "with col1:\n",
        "    weight = st.number_input(\"Enter your weight in kg\", min_value=1.0, format=\"%.2f\")\n",
        "with col2:\n",
        "    height = st.number_input(\"Enter your height in meters\", min_value=0.1, format=\"%.2f\")  # Fixed label\n",
        "\n",
        "if height > 0 and weight > 0:\n",
        "    bmi = weight / (height ** 2)  # BMI formula\n",
        "    st.subheader(f\"Your BMI is **{bmi:.2f}**\")\n",
        "\n",
        "    if bmi < 18.5:\n",
        "        st.error(\"You are underweight\")\n",
        "    elif 18.5 <= bmi < 25:\n",
        "        st.success(\"You are healthy\")\n",
        "    elif 25 <= bmi < 30:\n",
        "        st.warning(\"You are overweight\")\n",
        "    else:\n",
        "        st.error(\"Obesity\")  # Fixed spelling\n",
        "else:\n",
        "    st.info(\"Please enter a valid weight and height\")\n",
        "\n",
        "\n"
      ]
    },
    {
      "cell_type": "code",
      "source": [
        "from pyngrok import ngrok\n",
        "import threading\n",
        "import os\n",
        "\n",
        "# Kill any previous tunnels\n",
        "ngrok.kill()\n",
        "\n",
        "# Function to run streamlit\n",
        "def run():\n",
        "    os.system(\"streamlit run project-8StreamlitBMICalculator.py \")\n",
        "\n",
        "# Start streamlit in a separate thread\n",
        "thread = threading.Thread(target=run)\n",
        "thread.start()\n",
        "\n",
        "# Connect ngrok to the streamlit port\n",
        "# public_url = ngrok.connect(\"http://localhost:8501\")\n",
        "public_url = ngrok.connect(\"http://localhost:8501\")\n",
        "\n",
        "\n",
        "print(f\"Streamlit app is live at: {public_url}\")\n"
      ],
      "metadata": {
        "colab": {
          "base_uri": "https://localhost:8080/"
        },
        "id": "2ofWEZIjgc-C",
        "outputId": "b6b33bbb-e8b5-47a0-8ad5-59451bf428be"
      },
      "execution_count": 9,
      "outputs": [
        {
          "output_type": "stream",
          "name": "stdout",
          "text": [
            "Streamlit app is live at: NgrokTunnel: \"https://47e3-35-184-83-244.ngrok-free.app\" -> \"http://localhost:8501\"\n"
          ]
        }
      ]
    }
  ]
}