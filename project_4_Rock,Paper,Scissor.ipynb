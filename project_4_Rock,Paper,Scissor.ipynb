{
  "nbformat": 4,
  "nbformat_minor": 0,
  "metadata": {
    "colab": {
      "provenance": [],
      "authorship_tag": "ABX9TyNrKrQq43egQbabkaEWQbHc",
      "include_colab_link": true
    },
    "kernelspec": {
      "name": "python3",
      "display_name": "Python 3"
    },
    "language_info": {
      "name": "python"
    }
  },
  "cells": [
    {
      "cell_type": "markdown",
      "metadata": {
        "id": "view-in-github",
        "colab_type": "text"
      },
      "source": [
        "<a href=\"https://colab.research.google.com/github/RehmatAli20/Assignment-4/blob/main/project_4_Rock%2CPaper%2CScissor.ipynb\" target=\"_parent\"><img src=\"https://colab.research.google.com/assets/colab-badge.svg\" alt=\"Open In Colab\"/></a>"
      ]
    },
    {
      "cell_type": "code",
      "execution_count": null,
      "metadata": {
        "colab": {
          "base_uri": "https://localhost:8080/"
        },
        "id": "rIActK5XLLMU",
        "outputId": "ca602218-373b-466f-8dec-6929629bfa2b"
      },
      "outputs": [
        {
          "output_type": "stream",
          "name": "stdout",
          "text": [
            "Welcom to Rock Paper Scissors Game!\n",
            "Enter your Choice : Type 0 for Rock , 1 for Paper and 2 for Scissors : 1\n",
            "Computer choice :  0\n",
            "You Win!\n"
          ]
        }
      ],
      "source": [
        "import random\n",
        "\n",
        "print(\"Welcom to Rock Paper Scissors Game!\")\n",
        "\n",
        "user_choice =int(input(\"Enter your Choice : Type 0 for Rock , 1 for Paper and 2 for Scissors : \"))\n",
        "if user_choice >=3 or  user_choice< 0: # here we will chack if user enter other number  than the expected input then this will handle by this if condtion\n",
        "  print(\"you entered invalid number, You Lose.\")\n",
        "else:  # if user enter expected input then this code will execute\n",
        "  computer_choice = random.randint(0,2) # here random number will be selected by the computer  and store into the computer choice for comparison\n",
        "  print(\"Computer choice : \",computer_choice)\n",
        "\n",
        "  if user_choice == 0 and computer_choice == 2:  #  we know that Rock wins again scissors acc to game rule then this condtion first check\n",
        "    print(\"You Win!\")\n",
        "  elif user_choice == 2 and computer_choice == 0: # we know that  scissors lose against rock acc to game rule\n",
        "    print(\"You Lose!\")\n",
        "  elif user_choice > computer_choice: # accept the above line of code where user choice is  0 ,2. if user choice is 1 and computer choice is 0 then\n",
        "    print(\"You Win!\")\n",
        "  elif user_choice < computer_choice:\n",
        "    print(\"You Lose!\")\n",
        "  else: # if both have same choice then this condtion will be execute\n",
        "    print(\"It's a Draw!\")"
      ]
    }
  ]
}