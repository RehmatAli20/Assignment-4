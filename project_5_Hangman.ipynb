{
  "nbformat": 4,
  "nbformat_minor": 0,
  "metadata": {
    "colab": {
      "provenance": [],
      "authorship_tag": "ABX9TyNw87T/h7ciyB0iHRnNQbJD",
      "include_colab_link": true
    },
    "kernelspec": {
      "name": "python3",
      "display_name": "Python 3"
    },
    "language_info": {
      "name": "python"
    }
  },
  "cells": [
    {
      "cell_type": "markdown",
      "metadata": {
        "id": "view-in-github",
        "colab_type": "text"
      },
      "source": [
        "<a href=\"https://colab.research.google.com/github/RehmatAli20/Assignment-4/blob/main/project_5_Hangman.ipynb\" target=\"_parent\"><img src=\"https://colab.research.google.com/assets/colab-badge.svg\" alt=\"Open In Colab\"/></a>"
      ]
    },
    {
      "cell_type": "code",
      "execution_count": null,
      "metadata": {
        "id": "fEqduF1R_k0S",
        "colab": {
          "base_uri": "https://localhost:8080/"
        },
        "outputId": "a21bf12b-b3e5-49d4-e116-629e20ee4d95"
      },
      "outputs": [
        {
          "output_type": "stream",
          "name": "stdout",
          "text": [
            "apple\n",
            "['-', '-', '-', '-', '-']\n",
            "Guess a letter: k\n",
            "Wrong guess! You have 5 lives left.\n",
            "- - - - -\n",
            "Guess a letter: a\n",
            "a - - - -\n",
            "Guess a letter: k\n",
            "Wrong guess! You have 4 lives left.\n",
            "a - - - -\n",
            "Guess a letter: k\n",
            "Wrong guess! You have 3 lives left.\n",
            "a - - - -\n"
          ]
        }
      ],
      "source": [
        "import random\n",
        "\n",
        "word_list = [\"apple\", \"beautiful\", \"potato\"]\n",
        "lives = 6\n",
        "chosen_word = random.choice(word_list)\n",
        "print(chosen_word)  # For debugging, remove this in the final version\n",
        "\n",
        "display = [\"-\"] * len(chosen_word)  # Correct way to initialize display\n",
        "print(display)\n",
        "\n",
        "game_over = False\n",
        "\n",
        "while not game_over:\n",
        "    guessed_letter = input(\"Guess a letter: \").lower()\n",
        "\n",
        "    if guessed_letter in chosen_word:\n",
        "        for position in range(len(chosen_word)):\n",
        "            letter = chosen_word[position]\n",
        "            if letter == guessed_letter:\n",
        "                display[position] = guessed_letter  # Replace '-' with correct letter\n",
        "    else:\n",
        "        lives -= 1  # Reduce lives only if the letter is not in the word\n",
        "        print(f\"Wrong guess! You have {lives} lives left.\")\n",
        "\n",
        "    print(\" \".join(display))  # Display updated word with spaces\n",
        "\n",
        "    if \"-\" not in display:\n",
        "        game_over = True\n",
        "        print(\"You win!\")\n",
        "\n",
        "    if lives == 0:\n",
        "        game_over = True\n",
        "        print(f\"You lose! The correct word was '{chosen_word}'.\")\n"
      ]
    }
  ]
}